{
 "cells": [
  {
   "cell_type": "code",
   "execution_count": 107,
   "id": "d71eb43d-c6f6-475b-8628-f4a365ece350",
   "metadata": {},
   "outputs": [],
   "source": [
    "import pandas as pd\n",
    "import numpy as np\n",
    "import seaborn as sns"
   ]
  },
  {
   "cell_type": "code",
   "execution_count": 108,
   "id": "4ca3efce-380d-4ebd-bb00-e351c671a9a7",
   "metadata": {},
   "outputs": [
    {
     "data": {
      "text/html": [
       "<div>\n",
       "<style scoped>\n",
       "    .dataframe tbody tr th:only-of-type {\n",
       "        vertical-align: middle;\n",
       "    }\n",
       "\n",
       "    .dataframe tbody tr th {\n",
       "        vertical-align: top;\n",
       "    }\n",
       "\n",
       "    .dataframe thead th {\n",
       "        text-align: right;\n",
       "    }\n",
       "</style>\n",
       "<table border=\"1\" class=\"dataframe\">\n",
       "  <thead>\n",
       "    <tr style=\"text-align: right;\">\n",
       "      <th></th>\n",
       "      <th>id</th>\n",
       "      <th>warehouse_block</th>\n",
       "      <th>mode_of_shipment</th>\n",
       "      <th>customer_care_calls</th>\n",
       "      <th>customer_rating</th>\n",
       "      <th>cost_of_the_product</th>\n",
       "      <th>prior_purchases</th>\n",
       "      <th>product_importance</th>\n",
       "      <th>gender</th>\n",
       "      <th>discount_offered</th>\n",
       "      <th>weight_in_gms</th>\n",
       "      <th>reached.on.time_y.n</th>\n",
       "      <th>cost_of_the_product_cleaned</th>\n",
       "      <th>discount_offered_cleaned</th>\n",
       "      <th>weight_in_gms_cleaned</th>\n",
       "    </tr>\n",
       "  </thead>\n",
       "  <tbody>\n",
       "    <tr>\n",
       "      <th>0</th>\n",
       "      <td>1</td>\n",
       "      <td>D</td>\n",
       "      <td>Flight</td>\n",
       "      <td>4</td>\n",
       "      <td>2</td>\n",
       "      <td>177</td>\n",
       "      <td>3</td>\n",
       "      <td>low</td>\n",
       "      <td>F</td>\n",
       "      <td>44</td>\n",
       "      <td>1233</td>\n",
       "      <td>1</td>\n",
       "      <td>Medium_cost</td>\n",
       "      <td>Too Much</td>\n",
       "      <td>Light</td>\n",
       "    </tr>\n",
       "    <tr>\n",
       "      <th>1</th>\n",
       "      <td>2</td>\n",
       "      <td>F</td>\n",
       "      <td>Flight</td>\n",
       "      <td>4</td>\n",
       "      <td>5</td>\n",
       "      <td>216</td>\n",
       "      <td>2</td>\n",
       "      <td>low</td>\n",
       "      <td>M</td>\n",
       "      <td>59</td>\n",
       "      <td>3088</td>\n",
       "      <td>1</td>\n",
       "      <td>Medium_cost</td>\n",
       "      <td>Too Much</td>\n",
       "      <td>Heavy</td>\n",
       "    </tr>\n",
       "  </tbody>\n",
       "</table>\n",
       "</div>"
      ],
      "text/plain": [
       "   id warehouse_block mode_of_shipment  customer_care_calls  customer_rating  \\\n",
       "0   1               D           Flight                    4                2   \n",
       "1   2               F           Flight                    4                5   \n",
       "\n",
       "   cost_of_the_product  prior_purchases product_importance gender  \\\n",
       "0                  177                3                low      F   \n",
       "1                  216                2                low      M   \n",
       "\n",
       "   discount_offered  weight_in_gms  reached.on.time_y.n  \\\n",
       "0                44           1233                    1   \n",
       "1                59           3088                    1   \n",
       "\n",
       "  cost_of_the_product_cleaned discount_offered_cleaned weight_in_gms_cleaned  \n",
       "0                 Medium_cost                 Too Much                 Light  \n",
       "1                 Medium_cost                 Too Much                 Heavy  "
      ]
     },
     "execution_count": 108,
     "metadata": {},
     "output_type": "execute_result"
    }
   ],
   "source": [
    "df = pd.read_csv(\"Ecommerce_Product_Data_Cleaned.csv\")\n",
    "df.head(2)"
   ]
  },
  {
   "cell_type": "code",
   "execution_count": 109,
   "id": "e043f5c8-4cce-48b9-864c-c05554f51c6a",
   "metadata": {},
   "outputs": [
    {
     "data": {
      "text/plain": [
       "Index(['id', 'warehouse_block', 'mode_of_shipment', 'customer_care_calls',\n",
       "       'customer_rating', 'cost_of_the_product', 'prior_purchases',\n",
       "       'product_importance', 'gender', 'discount_offered', 'weight_in_gms',\n",
       "       'reached.on.time_y.n', 'cost_of_the_product_cleaned',\n",
       "       'discount_offered_cleaned', 'weight_in_gms_cleaned'],\n",
       "      dtype='object')"
      ]
     },
     "execution_count": 109,
     "metadata": {},
     "output_type": "execute_result"
    }
   ],
   "source": [
    "df.columns"
   ]
  },
  {
   "cell_type": "code",
   "execution_count": 110,
   "id": "1a7406a2-5edf-4d5c-8382-b780b611fe37",
   "metadata": {},
   "outputs": [],
   "source": [
    "#sns.scatterplot(x=df['cost_of_the_product'], y=df['prior_purchases'])  # both quatitive scatter plot"
   ]
  },
  {
   "cell_type": "code",
   "execution_count": 111,
   "id": "c8bdfeac-8747-4c3a-89eb-85b191650d67",
   "metadata": {},
   "outputs": [],
   "source": [
    "#sns.scatterplot(x=df['prior_purchases'], y=df['weight_in_gms']) "
   ]
  },
  {
   "cell_type": "code",
   "execution_count": 112,
   "id": "909ea202-f289-469c-ac3a-4b3add5c0d10",
   "metadata": {},
   "outputs": [
    {
     "data": {
      "text/plain": [
       "id                              int64\n",
       "warehouse_block                object\n",
       "mode_of_shipment               object\n",
       "customer_care_calls             int64\n",
       "customer_rating                 int64\n",
       "cost_of_the_product             int64\n",
       "prior_purchases                 int64\n",
       "product_importance             object\n",
       "gender                         object\n",
       "discount_offered                int64\n",
       "weight_in_gms                   int64\n",
       "reached.on.time_y.n             int64\n",
       "cost_of_the_product_cleaned    object\n",
       "discount_offered_cleaned       object\n",
       "weight_in_gms_cleaned          object\n",
       "dtype: object"
      ]
     },
     "execution_count": 112,
     "metadata": {},
     "output_type": "execute_result"
    }
   ],
   "source": [
    "df.dtypes"
   ]
  },
  {
   "cell_type": "code",
   "execution_count": 113,
   "id": "7d18d70e-2699-46f2-a871-cefac7835031",
   "metadata": {},
   "outputs": [],
   "source": [
    "#df[\"revenue_before_disc\"] = df[\"cost_of_the_product\"] * df[\"weight_in_gms\"]\n",
    "#df[\"revenue_before_disc\"]"
   ]
  },
  {
   "cell_type": "code",
   "execution_count": 114,
   "id": "a1004974-05ce-480e-90b7-0ea403b0b68b",
   "metadata": {},
   "outputs": [],
   "source": [
    "#df[\"revenue_after_disc\"] = (df[\"revenue_before_disc\"]*(100-df['discount_offered'])/100)\n",
    "#df[\"revenue_after_disc\"] "
   ]
  },
  {
   "cell_type": "code",
   "execution_count": 115,
   "id": "48af99b2-67a0-440d-a31f-0fabfbccf8ff",
   "metadata": {},
   "outputs": [
    {
     "data": {
      "text/plain": [
       "310"
      ]
     },
     "execution_count": 115,
     "metadata": {},
     "output_type": "execute_result"
    }
   ],
   "source": [
    "maxcostproduct = df['cost_of_the_product'].max()\n",
    "maxcostproduct\n"
   ]
  },
  {
   "cell_type": "code",
   "execution_count": 116,
   "id": "9b1a54c2-5f85-4645-9975-ab16bca6d58a",
   "metadata": {},
   "outputs": [
    {
     "data": {
      "text/plain": [
       "10"
      ]
     },
     "execution_count": 116,
     "metadata": {},
     "output_type": "execute_result"
    }
   ],
   "source": [
    "maxpurchases = df['prior_purchases'].max()\n",
    "maxpurchases"
   ]
  },
  {
   "cell_type": "code",
   "execution_count": 117,
   "id": "53002afb-979a-495f-9539-191df627a6ee",
   "metadata": {},
   "outputs": [
    {
     "data": {
      "text/plain": [
       "7846"
      ]
     },
     "execution_count": 117,
     "metadata": {},
     "output_type": "execute_result"
    }
   ],
   "source": [
    "maxweight = df['weight_in_gms'].max()\n",
    "maxweight"
   ]
  },
  {
   "cell_type": "code",
   "execution_count": 118,
   "id": "394171e0-6793-4abf-b23c-5caa8370c296",
   "metadata": {},
   "outputs": [
    {
     "data": {
      "text/plain": [
       "96"
      ]
     },
     "execution_count": 118,
     "metadata": {},
     "output_type": "execute_result"
    }
   ],
   "source": [
    "mincostproduct = df['cost_of_the_product'].min()\n",
    "mincostproduct"
   ]
  },
  {
   "cell_type": "code",
   "execution_count": 119,
   "id": "1efc7121-1390-4d7b-bd13-82da08c849ec",
   "metadata": {},
   "outputs": [
    {
     "data": {
      "text/plain": [
       "2"
      ]
     },
     "execution_count": 119,
     "metadata": {},
     "output_type": "execute_result"
    }
   ],
   "source": [
    "minpurchases = df['prior_purchases'].min()\n",
    "minpurchases"
   ]
  },
  {
   "cell_type": "code",
   "execution_count": 120,
   "id": "7bdece26-0b51-41f3-84bf-db62911ebf31",
   "metadata": {},
   "outputs": [
    {
     "data": {
      "text/plain": [
       "1001"
      ]
     },
     "execution_count": 120,
     "metadata": {},
     "output_type": "execute_result"
    }
   ],
   "source": [
    "minweight = df['weight_in_gms'].min()\n",
    "minweight"
   ]
  },
  {
   "cell_type": "code",
   "execution_count": 121,
   "id": "c3293cbb-abb6-4668-834b-e4a2172c3517",
   "metadata": {},
   "outputs": [
    {
     "data": {
      "text/plain": [
       "reached.on.time_y.n\n",
       "0    214.498647\n",
       "1    207.289197\n",
       "Name: cost_of_the_product, dtype: float64"
      ]
     },
     "execution_count": 121,
     "metadata": {},
     "output_type": "execute_result"
    }
   ],
   "source": [
    "cost_of_the_product_on_time = df.groupby(\"reached.on.time_y.n\")[\"cost_of_the_product\"].mean()\n",
    "cost_of_the_product_on_time"
   ]
  },
  {
   "cell_type": "code",
   "execution_count": null,
   "id": "e819d5b8-73a5-48d9-8fdd-65e06e18f6b7",
   "metadata": {},
   "outputs": [],
   "source": []
  },
  {
   "cell_type": "code",
   "execution_count": 122,
   "id": "3c6f9ac7-ed79-41ad-b2ac-c4d8875377e9",
   "metadata": {},
   "outputs": [
    {
     "data": {
      "text/plain": [
       "reached.on.time_y.n\n",
       "0     5.545987\n",
       "1    18.663721\n",
       "Name: discount_offered, dtype: float64"
      ]
     },
     "execution_count": 122,
     "metadata": {},
     "output_type": "execute_result"
    }
   ],
   "source": [
    "discount_offered_on_time = df.groupby(\"reached.on.time_y.n\")[\"discount_offered\"].mean()\n",
    "discount_offered_on_time"
   ]
  },
  {
   "cell_type": "code",
   "execution_count": 123,
   "id": "3a156bfa-0a91-40aa-9b62-4ac9d56fd513",
   "metadata": {},
   "outputs": [
    {
     "data": {
      "text/plain": [
       "reached.on.time_y.n\n",
       "0    4168.668395\n",
       "1    3272.640104\n",
       "Name: weight_in_gms, dtype: float64"
      ]
     },
     "execution_count": 123,
     "metadata": {},
     "output_type": "execute_result"
    }
   ],
   "source": [
    "weight_in_gms_on_time = df.groupby(\"reached.on.time_y.n\")[\"weight_in_gms\"].mean()\n",
    "weight_in_gms_on_time"
   ]
  },
  {
   "cell_type": "code",
   "execution_count": 124,
   "id": "5d7a7cca-6bb5-46e2-9caf-782aad00c530",
   "metadata": {},
   "outputs": [
    {
     "data": {
      "text/plain": [
       "reached.on.time_y.n\n",
       "0    2.967989\n",
       "1    3.005790\n",
       "Name: customer_rating, dtype: float64"
      ]
     },
     "execution_count": 124,
     "metadata": {},
     "output_type": "execute_result"
    }
   ],
   "source": [
    "customer_rating_on_time = df.groupby(\"reached.on.time_y.n\")[\"customer_rating\"].mean()\n",
    "customer_rating_on_time"
   ]
  },
  {
   "cell_type": "code",
   "execution_count": 125,
   "id": "3da89c8f-932b-40e3-a99e-3f6ac967e0c0",
   "metadata": {},
   "outputs": [
    {
     "data": {
      "text/plain": [
       "reached.on.time_y.n  mode_of_shipment\n",
       "0                    Flight              3.738701\n",
       "                     Road                3.689655\n",
       "                     Ship                3.649684\n",
       "1                    Flight              3.452760\n",
       "                     Road                3.505314\n",
       "                     Ship                3.507289\n",
       "Name: prior_purchases, dtype: float64"
      ]
     },
     "execution_count": 125,
     "metadata": {},
     "output_type": "execute_result"
    }
   ],
   "source": [
    "df.groupby([\"reached.on.time_y.n\",\"mode_of_shipment\"])[\"prior_purchases\"].mean()"
   ]
  },
  {
   "cell_type": "code",
   "execution_count": 126,
   "id": "8dfeeb5f-03b6-41b7-9150-9a37f6dc22f9",
   "metadata": {},
   "outputs": [
    {
     "data": {
      "text/plain": [
       "reached.on.time_y.n  mode_of_shipment\n",
       "0                    Flight              213.408192\n",
       "                     Road                215.394483\n",
       "                     Ship                214.539461\n",
       "1                    Flight              206.590271\n",
       "                     Road                207.029952\n",
       "                     Ship                207.516932\n",
       "Name: cost_of_the_product, dtype: float64"
      ]
     },
     "execution_count": 126,
     "metadata": {},
     "output_type": "execute_result"
    }
   ],
   "source": [
    "df.groupby([\"reached.on.time_y.n\",\"mode_of_shipment\"])[\"cost_of_the_product\"].mean()"
   ]
  },
  {
   "cell_type": "code",
   "execution_count": 127,
   "id": "8a372b3d-34bf-4daf-9041-4c002fac76f7",
   "metadata": {},
   "outputs": [
    {
     "data": {
      "text/plain": [
       "reached.on.time_y.n  mode_of_shipment\n",
       "0                    Flight              2.975989\n",
       "                     Road                2.988966\n",
       "                     Ship                2.961039\n",
       "1                    Flight              2.986904\n",
       "                     Road                3.000000\n",
       "                     Ship                3.011662\n",
       "Name: customer_rating, dtype: float64"
      ]
     },
     "execution_count": 127,
     "metadata": {},
     "output_type": "execute_result"
    }
   ],
   "source": [
    "df.groupby([\"reached.on.time_y.n\",\"mode_of_shipment\"])[\"customer_rating\"].mean()"
   ]
  },
  {
   "cell_type": "code",
   "execution_count": 128,
   "id": "881b2210-7bce-4035-b596-ffc2e3574905",
   "metadata": {},
   "outputs": [
    {
     "data": {
      "text/plain": [
       "reached.on.time_y.n  mode_of_shipment\n",
       "0                    Flight              4116.878531\n",
       "                     Road                4122.776552\n",
       "                     Ship                4191.958042\n",
       "1                    Flight              3306.506080\n",
       "                     Road                3318.063768\n",
       "                     Ship                3253.977573\n",
       "Name: weight_in_gms, dtype: float64"
      ]
     },
     "execution_count": 128,
     "metadata": {},
     "output_type": "execute_result"
    }
   ],
   "source": [
    "df.groupby([\"reached.on.time_y.n\",\"mode_of_shipment\"])[\"weight_in_gms\"].mean()"
   ]
  },
  {
   "cell_type": "code",
   "execution_count": 129,
   "id": "622031c7-e838-451b-a519-d0003c8a29fb",
   "metadata": {},
   "outputs": [
    {
     "data": {
      "text/plain": [
       "reached.on.time_y.n  warehouse_block\n",
       "0                    A                  2.930079\n",
       "                     B                  2.980796\n",
       "                     C                  2.956698\n",
       "                     D                  3.033875\n",
       "                     F                  2.953804\n",
       "1                    A                  2.976744\n",
       "                     B                  2.980072\n",
       "                     C                  3.019196\n",
       "                     D                  3.007299\n",
       "                     F                  3.025524\n",
       "Name: customer_rating, dtype: float64"
      ]
     },
     "execution_count": 129,
     "metadata": {},
     "output_type": "execute_result"
    }
   ],
   "source": [
    "df.groupby([\"reached.on.time_y.n\",\"warehouse_block\"])[\"customer_rating\"].mean()"
   ]
  },
  {
   "cell_type": "code",
   "execution_count": 130,
   "id": "c4f58d72-41d8-4f99-958a-78d136ec3084",
   "metadata": {},
   "outputs": [
    {
     "data": {
      "text/html": [
       "<div>\n",
       "<style scoped>\n",
       "    .dataframe tbody tr th:only-of-type {\n",
       "        vertical-align: middle;\n",
       "    }\n",
       "\n",
       "    .dataframe tbody tr th {\n",
       "        vertical-align: top;\n",
       "    }\n",
       "\n",
       "    .dataframe thead th {\n",
       "        text-align: right;\n",
       "    }\n",
       "</style>\n",
       "<table border=\"1\" class=\"dataframe\">\n",
       "  <thead>\n",
       "    <tr style=\"text-align: right;\">\n",
       "      <th></th>\n",
       "      <th>warehouse_block</th>\n",
       "      <th>cost_of_the_product</th>\n",
       "      <th>customer_care_calls</th>\n",
       "      <th>prior_purchases</th>\n",
       "      <th>discount_offered</th>\n",
       "      <th>weight_in_gms</th>\n",
       "      <th>product_importance</th>\n",
       "      <th>customer_rating</th>\n",
       "    </tr>\n",
       "  </thead>\n",
       "  <tbody>\n",
       "    <tr>\n",
       "      <th>0</th>\n",
       "      <td>A</td>\n",
       "      <td>208.767594</td>\n",
       "      <td>7402</td>\n",
       "      <td>6558</td>\n",
       "      <td>13.222586</td>\n",
       "      <td>3615.448991</td>\n",
       "      <td>low</td>\n",
       "      <td>2</td>\n",
       "    </tr>\n",
       "    <tr>\n",
       "      <th>1</th>\n",
       "      <td>B</td>\n",
       "      <td>212.159302</td>\n",
       "      <td>7369</td>\n",
       "      <td>6553</td>\n",
       "      <td>13.187125</td>\n",
       "      <td>3635.701037</td>\n",
       "      <td>medium</td>\n",
       "      <td>3</td>\n",
       "    </tr>\n",
       "    <tr>\n",
       "      <th>2</th>\n",
       "      <td>C</td>\n",
       "      <td>211.191489</td>\n",
       "      <td>7451</td>\n",
       "      <td>6516</td>\n",
       "      <td>13.399891</td>\n",
       "      <td>3641.331151</td>\n",
       "      <td>medium</td>\n",
       "      <td>2</td>\n",
       "    </tr>\n",
       "    <tr>\n",
       "      <th>3</th>\n",
       "      <td>D</td>\n",
       "      <td>210.907852</td>\n",
       "      <td>7434</td>\n",
       "      <td>6606</td>\n",
       "      <td>13.093784</td>\n",
       "      <td>3628.846783</td>\n",
       "      <td>low</td>\n",
       "      <td>2</td>\n",
       "    </tr>\n",
       "    <tr>\n",
       "      <th>4</th>\n",
       "      <td>F</td>\n",
       "      <td>209.077196</td>\n",
       "      <td>14939</td>\n",
       "      <td>13007</td>\n",
       "      <td>13.668031</td>\n",
       "      <td>3641.387616</td>\n",
       "      <td>low</td>\n",
       "      <td>5</td>\n",
       "    </tr>\n",
       "  </tbody>\n",
       "</table>\n",
       "</div>"
      ],
      "text/plain": [
       "  warehouse_block  cost_of_the_product  customer_care_calls  prior_purchases  \\\n",
       "0               A           208.767594                 7402             6558   \n",
       "1               B           212.159302                 7369             6553   \n",
       "2               C           211.191489                 7451             6516   \n",
       "3               D           210.907852                 7434             6606   \n",
       "4               F           209.077196                14939            13007   \n",
       "\n",
       "   discount_offered  weight_in_gms product_importance  customer_rating  \n",
       "0         13.222586    3615.448991                low                2  \n",
       "1         13.187125    3635.701037             medium                3  \n",
       "2         13.399891    3641.331151             medium                2  \n",
       "3         13.093784    3628.846783                low                2  \n",
       "4         13.668031    3641.387616                low                5  "
      ]
     },
     "execution_count": 130,
     "metadata": {},
     "output_type": "execute_result"
    }
   ],
   "source": [
    "grouped_by_warehouse = df.groupby('warehouse_block').agg({\n",
    "    'cost_of_the_product': 'mean',\n",
    "    'customer_care_calls': 'sum',\n",
    "    'prior_purchases': 'sum',\n",
    "    'discount_offered': 'mean',\n",
    "    'weight_in_gms': 'mean',\n",
    "    \"product_importance\": \"first\", 'customer_rating': 'first' \n",
    "}).reset_index()\n",
    "grouped_by_warehouse"
   ]
  },
  {
   "cell_type": "markdown",
   "id": "9242b69a-35fc-4098-9451-2235caa2bf95",
   "metadata": {},
   "source": [
    "\n",
    "### how many shipments are on time , or average cost_of_the_product or customer_rating per warehouse."
   ]
  },
  {
   "cell_type": "code",
   "execution_count": 131,
   "id": "1748fde5-ac0a-42a7-b49d-303f65c1cd34",
   "metadata": {},
   "outputs": [
    {
     "data": {
      "text/html": [
       "<div>\n",
       "<style scoped>\n",
       "    .dataframe tbody tr th:only-of-type {\n",
       "        vertical-align: middle;\n",
       "    }\n",
       "\n",
       "    .dataframe tbody tr th {\n",
       "        vertical-align: top;\n",
       "    }\n",
       "\n",
       "    .dataframe thead th {\n",
       "        text-align: right;\n",
       "    }\n",
       "</style>\n",
       "<table border=\"1\" class=\"dataframe\">\n",
       "  <thead>\n",
       "    <tr style=\"text-align: right;\">\n",
       "      <th></th>\n",
       "      <th>reached.on.time_y.n</th>\n",
       "      <th>cost_of_the_product</th>\n",
       "      <th>customer_rating</th>\n",
       "      <th>weight_in_gms</th>\n",
       "    </tr>\n",
       "    <tr>\n",
       "      <th>warehouse_block</th>\n",
       "      <th></th>\n",
       "      <th></th>\n",
       "      <th></th>\n",
       "      <th></th>\n",
       "    </tr>\n",
       "  </thead>\n",
       "  <tbody>\n",
       "    <tr>\n",
       "      <th>A</th>\n",
       "      <td>1</td>\n",
       "      <td>208.767594</td>\n",
       "      <td>2</td>\n",
       "      <td>6627118</td>\n",
       "    </tr>\n",
       "    <tr>\n",
       "      <th>B</th>\n",
       "      <td>1</td>\n",
       "      <td>212.159302</td>\n",
       "      <td>3</td>\n",
       "      <td>6664240</td>\n",
       "    </tr>\n",
       "    <tr>\n",
       "      <th>C</th>\n",
       "      <td>1</td>\n",
       "      <td>211.191489</td>\n",
       "      <td>2</td>\n",
       "      <td>6674560</td>\n",
       "    </tr>\n",
       "    <tr>\n",
       "      <th>D</th>\n",
       "      <td>1</td>\n",
       "      <td>210.907852</td>\n",
       "      <td>2</td>\n",
       "      <td>6655305</td>\n",
       "    </tr>\n",
       "    <tr>\n",
       "      <th>F</th>\n",
       "      <td>1</td>\n",
       "      <td>209.077196</td>\n",
       "      <td>5</td>\n",
       "      <td>13349327</td>\n",
       "    </tr>\n",
       "  </tbody>\n",
       "</table>\n",
       "</div>"
      ],
      "text/plain": [
       "                 reached.on.time_y.n  cost_of_the_product  customer_rating  \\\n",
       "warehouse_block                                                              \n",
       "A                                  1           208.767594                2   \n",
       "B                                  1           212.159302                3   \n",
       "C                                  1           211.191489                2   \n",
       "D                                  1           210.907852                2   \n",
       "F                                  1           209.077196                5   \n",
       "\n",
       "                 weight_in_gms  \n",
       "warehouse_block                 \n",
       "A                      6627118  \n",
       "B                      6664240  \n",
       "C                      6674560  \n",
       "D                      6655305  \n",
       "F                     13349327  "
      ]
     },
     "execution_count": 131,
     "metadata": {},
     "output_type": "execute_result"
    }
   ],
   "source": [
    "df.groupby('warehouse_block').agg({ 'reached.on.time_y.n': 'first','cost_of_the_product': 'mean',  'customer_rating': 'first'  ,'weight_in_gms' :'sum'})"
   ]
  },
  {
   "cell_type": "markdown",
   "id": "e7fb3276-23b4-41d8-ac2d-a638cd6e1275",
   "metadata": {},
   "source": [
    " ### mode_of_shipment to find the avg delivery time or customer_rating based on different shipping methods\n"
   ]
  },
  {
   "cell_type": "code",
   "execution_count": 132,
   "id": "2ebbfc3f-5988-49ea-9bb9-bc995e01c17c",
   "metadata": {},
   "outputs": [
    {
     "data": {
      "text/html": [
       "<div>\n",
       "<style scoped>\n",
       "    .dataframe tbody tr th:only-of-type {\n",
       "        vertical-align: middle;\n",
       "    }\n",
       "\n",
       "    .dataframe tbody tr th {\n",
       "        vertical-align: top;\n",
       "    }\n",
       "\n",
       "    .dataframe thead th {\n",
       "        text-align: right;\n",
       "    }\n",
       "</style>\n",
       "<table border=\"1\" class=\"dataframe\">\n",
       "  <thead>\n",
       "    <tr style=\"text-align: right;\">\n",
       "      <th></th>\n",
       "      <th>reached.on.time_y.n</th>\n",
       "      <th>customer_rating</th>\n",
       "    </tr>\n",
       "    <tr>\n",
       "      <th>mode_of_shipment</th>\n",
       "      <th></th>\n",
       "      <th></th>\n",
       "    </tr>\n",
       "  </thead>\n",
       "  <tbody>\n",
       "    <tr>\n",
       "      <th>Flight</th>\n",
       "      <td>1</td>\n",
       "      <td>2</td>\n",
       "    </tr>\n",
       "    <tr>\n",
       "      <th>Road</th>\n",
       "      <td>1</td>\n",
       "      <td>1</td>\n",
       "    </tr>\n",
       "    <tr>\n",
       "      <th>Ship</th>\n",
       "      <td>1</td>\n",
       "      <td>5</td>\n",
       "    </tr>\n",
       "  </tbody>\n",
       "</table>\n",
       "</div>"
      ],
      "text/plain": [
       "                  reached.on.time_y.n  customer_rating\n",
       "mode_of_shipment                                      \n",
       "Flight                              1                2\n",
       "Road                                1                1\n",
       "Ship                                1                5"
      ]
     },
     "execution_count": 132,
     "metadata": {},
     "output_type": "execute_result"
    }
   ],
   "source": [
    "df.groupby('mode_of_shipment').agg({'reached.on.time_y.n': 'first',  'customer_rating': 'first'  })     \n",
    "# Average on-time delivery rate by shipping mode\n",
    "# Average customer rating by shipping mode"
   ]
  },
  {
   "cell_type": "markdown",
   "id": "d4e4a701-3894-4efb-a136-a84b403c45b9",
   "metadata": {},
   "source": [
    "### product_importance to check whether customers rate products differently based on importance, or if the cost of the product differs for different importance levels."
   ]
  },
  {
   "cell_type": "code",
   "execution_count": 133,
   "id": "be8737ac-f23b-4206-bbcb-e7e884518663",
   "metadata": {},
   "outputs": [
    {
     "data": {
      "text/html": [
       "<div>\n",
       "<style scoped>\n",
       "    .dataframe tbody tr th:only-of-type {\n",
       "        vertical-align: middle;\n",
       "    }\n",
       "\n",
       "    .dataframe tbody tr th {\n",
       "        vertical-align: top;\n",
       "    }\n",
       "\n",
       "    .dataframe thead th {\n",
       "        text-align: right;\n",
       "    }\n",
       "</style>\n",
       "<table border=\"1\" class=\"dataframe\">\n",
       "  <thead>\n",
       "    <tr style=\"text-align: right;\">\n",
       "      <th></th>\n",
       "      <th>customer_rating</th>\n",
       "      <th>cost_of_the_product</th>\n",
       "    </tr>\n",
       "    <tr>\n",
       "      <th>product_importance</th>\n",
       "      <th></th>\n",
       "      <th></th>\n",
       "    </tr>\n",
       "  </thead>\n",
       "  <tbody>\n",
       "    <tr>\n",
       "      <th>high</th>\n",
       "      <td>4</td>\n",
       "      <td>203.871308</td>\n",
       "    </tr>\n",
       "    <tr>\n",
       "      <th>low</th>\n",
       "      <td>2</td>\n",
       "      <td>212.059845</td>\n",
       "    </tr>\n",
       "    <tr>\n",
       "      <th>medium</th>\n",
       "      <td>3</td>\n",
       "      <td>209.382415</td>\n",
       "    </tr>\n",
       "  </tbody>\n",
       "</table>\n",
       "</div>"
      ],
      "text/plain": [
       "                    customer_rating  cost_of_the_product\n",
       "product_importance                                      \n",
       "high                              4           203.871308\n",
       "low                               2           212.059845\n",
       "medium                            3           209.382415"
      ]
     },
     "execution_count": 133,
     "metadata": {},
     "output_type": "execute_result"
    }
   ],
   "source": [
    "df.groupby('product_importance').agg({'customer_rating': 'first', 'cost_of_the_product': 'mean' })"
   ]
  },
  {
   "cell_type": "markdown",
   "id": "0ee334c6-48da-435c-85f5-a47ace0c59b4",
   "metadata": {},
   "source": [
    "###  discount_offered to calculate the avg customer_rating or the proportion of products delivered on time.\n"
   ]
  },
  {
   "cell_type": "code",
   "execution_count": 134,
   "id": "436307b1-86f3-4e53-8782-bccdc7d14baf",
   "metadata": {},
   "outputs": [
    {
     "data": {
      "text/html": [
       "<div>\n",
       "<style scoped>\n",
       "    .dataframe tbody tr th:only-of-type {\n",
       "        vertical-align: middle;\n",
       "    }\n",
       "\n",
       "    .dataframe tbody tr th {\n",
       "        vertical-align: top;\n",
       "    }\n",
       "\n",
       "    .dataframe thead th {\n",
       "        text-align: right;\n",
       "    }\n",
       "</style>\n",
       "<table border=\"1\" class=\"dataframe\">\n",
       "  <thead>\n",
       "    <tr style=\"text-align: right;\">\n",
       "      <th></th>\n",
       "      <th>customer_rating</th>\n",
       "      <th>reached.on.time_y.n</th>\n",
       "    </tr>\n",
       "    <tr>\n",
       "      <th>discount_offered</th>\n",
       "      <th></th>\n",
       "      <th></th>\n",
       "    </tr>\n",
       "  </thead>\n",
       "  <tbody>\n",
       "    <tr>\n",
       "      <th>1</th>\n",
       "      <td>5</td>\n",
       "      <td>824</td>\n",
       "    </tr>\n",
       "    <tr>\n",
       "      <th>2</th>\n",
       "      <td>5</td>\n",
       "      <td>858</td>\n",
       "    </tr>\n",
       "    <tr>\n",
       "      <th>3</th>\n",
       "      <td>4</td>\n",
       "      <td>840</td>\n",
       "    </tr>\n",
       "    <tr>\n",
       "      <th>4</th>\n",
       "      <td>2</td>\n",
       "      <td>825</td>\n",
       "    </tr>\n",
       "    <tr>\n",
       "      <th>5</th>\n",
       "      <td>5</td>\n",
       "      <td>810</td>\n",
       "    </tr>\n",
       "    <tr>\n",
       "      <th>...</th>\n",
       "      <td>...</td>\n",
       "      <td>...</td>\n",
       "    </tr>\n",
       "    <tr>\n",
       "      <th>61</th>\n",
       "      <td>3</td>\n",
       "      <td>53</td>\n",
       "    </tr>\n",
       "    <tr>\n",
       "      <th>62</th>\n",
       "      <td>5</td>\n",
       "      <td>49</td>\n",
       "    </tr>\n",
       "    <tr>\n",
       "      <th>63</th>\n",
       "      <td>1</td>\n",
       "      <td>53</td>\n",
       "    </tr>\n",
       "    <tr>\n",
       "      <th>64</th>\n",
       "      <td>1</td>\n",
       "      <td>43</td>\n",
       "    </tr>\n",
       "    <tr>\n",
       "      <th>65</th>\n",
       "      <td>2</td>\n",
       "      <td>36</td>\n",
       "    </tr>\n",
       "  </tbody>\n",
       "</table>\n",
       "<p>65 rows × 2 columns</p>\n",
       "</div>"
      ],
      "text/plain": [
       "                  customer_rating  reached.on.time_y.n\n",
       "discount_offered                                      \n",
       "1                               5                  824\n",
       "2                               5                  858\n",
       "3                               4                  840\n",
       "4                               2                  825\n",
       "5                               5                  810\n",
       "...                           ...                  ...\n",
       "61                              3                   53\n",
       "62                              5                   49\n",
       "63                              1                   53\n",
       "64                              1                   43\n",
       "65                              2                   36\n",
       "\n",
       "[65 rows x 2 columns]"
      ]
     },
     "execution_count": 134,
     "metadata": {},
     "output_type": "execute_result"
    }
   ],
   "source": [
    "df.groupby('discount_offered').agg({'customer_rating': 'first', 'reached.on.time_y.n':'count'})"
   ]
  },
  {
   "cell_type": "markdown",
   "id": "b0bac634-8204-47c8-be87-9a56024b126a",
   "metadata": {},
   "source": [
    "### cost_of_the_product_cleaned and analyze the avg customer rating for each price range."
   ]
  },
  {
   "cell_type": "code",
   "execution_count": 135,
   "id": "571073fe-ed57-4b1d-bde7-2220f15b70d0",
   "metadata": {},
   "outputs": [
    {
     "data": {
      "text/html": [
       "<div>\n",
       "<style scoped>\n",
       "    .dataframe tbody tr th:only-of-type {\n",
       "        vertical-align: middle;\n",
       "    }\n",
       "\n",
       "    .dataframe tbody tr th {\n",
       "        vertical-align: top;\n",
       "    }\n",
       "\n",
       "    .dataframe thead th {\n",
       "        text-align: right;\n",
       "    }\n",
       "</style>\n",
       "<table border=\"1\" class=\"dataframe\">\n",
       "  <thead>\n",
       "    <tr style=\"text-align: right;\">\n",
       "      <th></th>\n",
       "      <th>customer_rating</th>\n",
       "      <th>reached.on.time_y.n</th>\n",
       "      <th>prior_purchases</th>\n",
       "    </tr>\n",
       "    <tr>\n",
       "      <th>cost_of_the_product_cleaned</th>\n",
       "      <th></th>\n",
       "      <th></th>\n",
       "      <th></th>\n",
       "    </tr>\n",
       "  </thead>\n",
       "  <tbody>\n",
       "    <tr>\n",
       "      <th>High_cost</th>\n",
       "      <td>4</td>\n",
       "      <td>1</td>\n",
       "      <td>3</td>\n",
       "    </tr>\n",
       "    <tr>\n",
       "      <th>Medium_cost</th>\n",
       "      <td>2</td>\n",
       "      <td>1</td>\n",
       "      <td>3</td>\n",
       "    </tr>\n",
       "    <tr>\n",
       "      <th>low_cost</th>\n",
       "      <td>1</td>\n",
       "      <td>1</td>\n",
       "      <td>3</td>\n",
       "    </tr>\n",
       "  </tbody>\n",
       "</table>\n",
       "</div>"
      ],
      "text/plain": [
       "                             customer_rating  reached.on.time_y.n  \\\n",
       "cost_of_the_product_cleaned                                         \n",
       "High_cost                                  4                    1   \n",
       "Medium_cost                                2                    1   \n",
       "low_cost                                   1                    1   \n",
       "\n",
       "                             prior_purchases  \n",
       "cost_of_the_product_cleaned                   \n",
       "High_cost                                  3  \n",
       "Medium_cost                                3  \n",
       "low_cost                                   3  "
      ]
     },
     "execution_count": 135,
     "metadata": {},
     "output_type": "execute_result"
    }
   ],
   "source": [
    "df.groupby('cost_of_the_product_cleaned').agg({'customer_rating': 'first', 'reached.on.time_y.n': 'first' , \"prior_purchases\": \"first\" , })\n",
    "# Average customer rating by price range   # Average on-time delivery by price range"
   ]
  },
  {
   "cell_type": "markdown",
   "id": "b19dc753-67e9-4a34-b575-26bffac0005c",
   "metadata": {},
   "source": [
    "### weight_in_gms_cleaned and calc the avg customer_rating or on-time delivery rate for each weight categor"
   ]
  },
  {
   "cell_type": "code",
   "execution_count": 136,
   "id": "2cbcc266-6948-4a0c-b12f-f0fd1bc03b24",
   "metadata": {},
   "outputs": [
    {
     "data": {
      "text/html": [
       "<div>\n",
       "<style scoped>\n",
       "    .dataframe tbody tr th:only-of-type {\n",
       "        vertical-align: middle;\n",
       "    }\n",
       "\n",
       "    .dataframe tbody tr th {\n",
       "        vertical-align: top;\n",
       "    }\n",
       "\n",
       "    .dataframe thead th {\n",
       "        text-align: right;\n",
       "    }\n",
       "</style>\n",
       "<table border=\"1\" class=\"dataframe\">\n",
       "  <thead>\n",
       "    <tr style=\"text-align: right;\">\n",
       "      <th></th>\n",
       "      <th>customer_rating</th>\n",
       "      <th>reached.on.time_y.n</th>\n",
       "    </tr>\n",
       "    <tr>\n",
       "      <th>weight_in_gms_cleaned</th>\n",
       "      <th></th>\n",
       "      <th></th>\n",
       "    </tr>\n",
       "  </thead>\n",
       "  <tbody>\n",
       "    <tr>\n",
       "      <th>Heavy</th>\n",
       "      <td>5</td>\n",
       "      <td>1</td>\n",
       "    </tr>\n",
       "    <tr>\n",
       "      <th>Light</th>\n",
       "      <td>2</td>\n",
       "      <td>1</td>\n",
       "    </tr>\n",
       "    <tr>\n",
       "      <th>Medium</th>\n",
       "      <td>2</td>\n",
       "      <td>1</td>\n",
       "    </tr>\n",
       "    <tr>\n",
       "      <th>Very Heavy</th>\n",
       "      <td>3</td>\n",
       "      <td>1</td>\n",
       "    </tr>\n",
       "  </tbody>\n",
       "</table>\n",
       "</div>"
      ],
      "text/plain": [
       "                       customer_rating  reached.on.time_y.n\n",
       "weight_in_gms_cleaned                                      \n",
       "Heavy                                5                    1\n",
       "Light                                2                    1\n",
       "Medium                               2                    1\n",
       "Very Heavy                           3                    1"
      ]
     },
     "execution_count": 136,
     "metadata": {},
     "output_type": "execute_result"
    }
   ],
   "source": [
    "df.groupby('weight_in_gms_cleaned').agg({'customer_rating': 'first', 'reached.on.time_y.n': 'first'})"
   ]
  },
  {
   "cell_type": "code",
   "execution_count": 137,
   "id": "4d2d10e3-6927-442e-aa44-48af4907fc33",
   "metadata": {},
   "outputs": [
    {
     "data": {
      "text/html": [
       "<div>\n",
       "<style scoped>\n",
       "    .dataframe tbody tr th:only-of-type {\n",
       "        vertical-align: middle;\n",
       "    }\n",
       "\n",
       "    .dataframe tbody tr th {\n",
       "        vertical-align: top;\n",
       "    }\n",
       "\n",
       "    .dataframe thead th {\n",
       "        text-align: right;\n",
       "    }\n",
       "</style>\n",
       "<table border=\"1\" class=\"dataframe\">\n",
       "  <thead>\n",
       "    <tr style=\"text-align: right;\">\n",
       "      <th></th>\n",
       "      <th>customer_rating</th>\n",
       "      <th>cost_of_the_product_cleaned</th>\n",
       "      <th>weight_in_gms_cleaned</th>\n",
       "      <th>mode_of_shipment</th>\n",
       "      <th>reached.on.time_y.n</th>\n",
       "    </tr>\n",
       "    <tr>\n",
       "      <th>warehouse_block</th>\n",
       "      <th></th>\n",
       "      <th></th>\n",
       "      <th></th>\n",
       "      <th></th>\n",
       "      <th></th>\n",
       "    </tr>\n",
       "  </thead>\n",
       "  <tbody>\n",
       "    <tr>\n",
       "      <th>A</th>\n",
       "      <td>2</td>\n",
       "      <td>Medium_cost</td>\n",
       "      <td>Heavy</td>\n",
       "      <td>Flight</td>\n",
       "      <td>1</td>\n",
       "    </tr>\n",
       "    <tr>\n",
       "      <th>B</th>\n",
       "      <td>3</td>\n",
       "      <td>Medium_cost</td>\n",
       "      <td>Light</td>\n",
       "      <td>Flight</td>\n",
       "      <td>1</td>\n",
       "    </tr>\n",
       "    <tr>\n",
       "      <th>C</th>\n",
       "      <td>2</td>\n",
       "      <td>Medium_cost</td>\n",
       "      <td>Medium</td>\n",
       "      <td>Flight</td>\n",
       "      <td>1</td>\n",
       "    </tr>\n",
       "    <tr>\n",
       "      <th>D</th>\n",
       "      <td>2</td>\n",
       "      <td>Medium_cost</td>\n",
       "      <td>Light</td>\n",
       "      <td>Flight</td>\n",
       "      <td>1</td>\n",
       "    </tr>\n",
       "    <tr>\n",
       "      <th>F</th>\n",
       "      <td>5</td>\n",
       "      <td>Medium_cost</td>\n",
       "      <td>Heavy</td>\n",
       "      <td>Flight</td>\n",
       "      <td>1</td>\n",
       "    </tr>\n",
       "  </tbody>\n",
       "</table>\n",
       "</div>"
      ],
      "text/plain": [
       "                 customer_rating cost_of_the_product_cleaned  \\\n",
       "warehouse_block                                                \n",
       "A                              2                 Medium_cost   \n",
       "B                              3                 Medium_cost   \n",
       "C                              2                 Medium_cost   \n",
       "D                              2                 Medium_cost   \n",
       "F                              5                 Medium_cost   \n",
       "\n",
       "                weight_in_gms_cleaned mode_of_shipment  reached.on.time_y.n  \n",
       "warehouse_block                                                              \n",
       "A                               Heavy           Flight                    1  \n",
       "B                               Light           Flight                    1  \n",
       "C                              Medium           Flight                    1  \n",
       "D                               Light           Flight                    1  \n",
       "F                               Heavy           Flight                    1  "
      ]
     },
     "execution_count": 137,
     "metadata": {},
     "output_type": "execute_result"
    }
   ],
   "source": [
    "df.groupby('warehouse_block').agg({'customer_rating': 'first', 'cost_of_the_product_cleaned': 'first','weight_in_gms_cleaned': 'first', 'mode_of_shipment':'first', 'reached.on.time_y.n':'first' })"
   ]
  },
  {
   "cell_type": "code",
   "execution_count": 138,
   "id": "2fb1765a-c5ea-45be-98cd-360420ac6a44",
   "metadata": {},
   "outputs": [
    {
     "data": {
      "text/html": [
       "<div>\n",
       "<style scoped>\n",
       "    .dataframe tbody tr th:only-of-type {\n",
       "        vertical-align: middle;\n",
       "    }\n",
       "\n",
       "    .dataframe tbody tr th {\n",
       "        vertical-align: top;\n",
       "    }\n",
       "\n",
       "    .dataframe thead th {\n",
       "        text-align: right;\n",
       "    }\n",
       "</style>\n",
       "<table border=\"1\" class=\"dataframe\">\n",
       "  <thead>\n",
       "    <tr style=\"text-align: right;\">\n",
       "      <th></th>\n",
       "      <th>customer_rating</th>\n",
       "      <th>cost_of_the_product_cleaned</th>\n",
       "      <th>weight_in_gms_cleaned</th>\n",
       "      <th>mode_of_shipment</th>\n",
       "      <th>warehouse_block</th>\n",
       "    </tr>\n",
       "    <tr>\n",
       "      <th>reached.on.time_y.n</th>\n",
       "      <th></th>\n",
       "      <th></th>\n",
       "      <th></th>\n",
       "      <th></th>\n",
       "      <th></th>\n",
       "    </tr>\n",
       "  </thead>\n",
       "  <tbody>\n",
       "    <tr>\n",
       "      <th>0</th>\n",
       "      <td>5</td>\n",
       "      <td>low_cost</td>\n",
       "      <td>Very Heavy</td>\n",
       "      <td>Road</td>\n",
       "      <td>B</td>\n",
       "    </tr>\n",
       "    <tr>\n",
       "      <th>1</th>\n",
       "      <td>2</td>\n",
       "      <td>Medium_cost</td>\n",
       "      <td>Light</td>\n",
       "      <td>Flight</td>\n",
       "      <td>D</td>\n",
       "    </tr>\n",
       "  </tbody>\n",
       "</table>\n",
       "</div>"
      ],
      "text/plain": [
       "                     customer_rating cost_of_the_product_cleaned  \\\n",
       "reached.on.time_y.n                                                \n",
       "0                                  5                    low_cost   \n",
       "1                                  2                 Medium_cost   \n",
       "\n",
       "                    weight_in_gms_cleaned mode_of_shipment warehouse_block  \n",
       "reached.on.time_y.n                                                         \n",
       "0                              Very Heavy             Road               B  \n",
       "1                                   Light           Flight               D  "
      ]
     },
     "execution_count": 138,
     "metadata": {},
     "output_type": "execute_result"
    }
   ],
   "source": [
    "df.groupby('reached.on.time_y.n').agg({'customer_rating': 'first', 'cost_of_the_product_cleaned': 'first','weight_in_gms_cleaned': 'first', 'mode_of_shipment':'first', 'warehouse_block':'first' })"
   ]
  },
  {
   "cell_type": "code",
   "execution_count": 139,
   "id": "20d95b18-1b23-4551-8357-5af93a474242",
   "metadata": {},
   "outputs": [
    {
     "data": {
      "text/html": [
       "<div>\n",
       "<style scoped>\n",
       "    .dataframe tbody tr th:only-of-type {\n",
       "        vertical-align: middle;\n",
       "    }\n",
       "\n",
       "    .dataframe tbody tr th {\n",
       "        vertical-align: top;\n",
       "    }\n",
       "\n",
       "    .dataframe thead th {\n",
       "        text-align: right;\n",
       "    }\n",
       "</style>\n",
       "<table border=\"1\" class=\"dataframe\">\n",
       "  <thead>\n",
       "    <tr style=\"text-align: right;\">\n",
       "      <th></th>\n",
       "      <th>customer_rating</th>\n",
       "      <th>cost_of_the_product_cleaned</th>\n",
       "      <th>weight_in_gms_cleaned</th>\n",
       "      <th>reached.on.time_y.n</th>\n",
       "      <th>warehouse_block</th>\n",
       "    </tr>\n",
       "    <tr>\n",
       "      <th>mode_of_shipment</th>\n",
       "      <th></th>\n",
       "      <th></th>\n",
       "      <th></th>\n",
       "      <th></th>\n",
       "      <th></th>\n",
       "    </tr>\n",
       "  </thead>\n",
       "  <tbody>\n",
       "    <tr>\n",
       "      <th>Flight</th>\n",
       "      <td>2</td>\n",
       "      <td>Medium_cost</td>\n",
       "      <td>Light</td>\n",
       "      <td>1</td>\n",
       "      <td>D</td>\n",
       "    </tr>\n",
       "    <tr>\n",
       "      <th>Road</th>\n",
       "      <td>1</td>\n",
       "      <td>low_cost</td>\n",
       "      <td>Light</td>\n",
       "      <td>1</td>\n",
       "      <td>A</td>\n",
       "    </tr>\n",
       "    <tr>\n",
       "      <th>Ship</th>\n",
       "      <td>5</td>\n",
       "      <td>Medium_cost</td>\n",
       "      <td>Heavy</td>\n",
       "      <td>1</td>\n",
       "      <td>F</td>\n",
       "    </tr>\n",
       "  </tbody>\n",
       "</table>\n",
       "</div>"
      ],
      "text/plain": [
       "                  customer_rating cost_of_the_product_cleaned  \\\n",
       "mode_of_shipment                                                \n",
       "Flight                          2                 Medium_cost   \n",
       "Road                            1                    low_cost   \n",
       "Ship                            5                 Medium_cost   \n",
       "\n",
       "                 weight_in_gms_cleaned  reached.on.time_y.n warehouse_block  \n",
       "mode_of_shipment                                                             \n",
       "Flight                           Light                    1               D  \n",
       "Road                             Light                    1               A  \n",
       "Ship                             Heavy                    1               F  "
      ]
     },
     "execution_count": 139,
     "metadata": {},
     "output_type": "execute_result"
    }
   ],
   "source": [
    "df.groupby('mode_of_shipment').agg({'customer_rating': 'first', 'cost_of_the_product_cleaned': 'first','weight_in_gms_cleaned': 'first', 'reached.on.time_y.n':'first', 'warehouse_block':'first' })"
   ]
  },
  {
   "cell_type": "markdown",
   "id": "418b26be-8b4a-44d9-9e20-be032cceae41",
   "metadata": {},
   "source": [
    "# CATGORICAL COLUMNS"
   ]
  },
  {
   "cell_type": "code",
   "execution_count": 140,
   "id": "96412505-f582-4297-a59d-feb4eb65f649",
   "metadata": {},
   "outputs": [],
   "source": [
    "import pandas as pd\n",
    "from scipy.stats import chi2_contingency"
   ]
  },
  {
   "cell_type": "markdown",
   "id": "1ea4150e-9ea0-4491-9365-7c8eb10bd0ac",
   "metadata": {},
   "source": [
    " ### warehouse_block & mode_of_shipment"
   ]
  },
  {
   "cell_type": "code",
   "execution_count": 141,
   "id": "961852bf-7a41-4896-9922-b7890d801a71",
   "metadata": {},
   "outputs": [
    {
     "data": {
      "text/html": [
       "<div>\n",
       "<style scoped>\n",
       "    .dataframe tbody tr th:only-of-type {\n",
       "        vertical-align: middle;\n",
       "    }\n",
       "\n",
       "    .dataframe tbody tr th {\n",
       "        vertical-align: top;\n",
       "    }\n",
       "\n",
       "    .dataframe thead th {\n",
       "        text-align: right;\n",
       "    }\n",
       "</style>\n",
       "<table border=\"1\" class=\"dataframe\">\n",
       "  <thead>\n",
       "    <tr style=\"text-align: right;\">\n",
       "      <th>mode_of_shipment</th>\n",
       "      <th>Flight</th>\n",
       "      <th>Road</th>\n",
       "      <th>Ship</th>\n",
       "    </tr>\n",
       "    <tr>\n",
       "      <th>warehouse_block</th>\n",
       "      <th></th>\n",
       "      <th></th>\n",
       "      <th></th>\n",
       "    </tr>\n",
       "  </thead>\n",
       "  <tbody>\n",
       "    <tr>\n",
       "      <th>A</th>\n",
       "      <td>297</td>\n",
       "      <td>294</td>\n",
       "      <td>1242</td>\n",
       "    </tr>\n",
       "    <tr>\n",
       "      <th>B</th>\n",
       "      <td>296</td>\n",
       "      <td>294</td>\n",
       "      <td>1243</td>\n",
       "    </tr>\n",
       "    <tr>\n",
       "      <th>C</th>\n",
       "      <td>295</td>\n",
       "      <td>294</td>\n",
       "      <td>1244</td>\n",
       "    </tr>\n",
       "    <tr>\n",
       "      <th>D</th>\n",
       "      <td>297</td>\n",
       "      <td>292</td>\n",
       "      <td>1245</td>\n",
       "    </tr>\n",
       "    <tr>\n",
       "      <th>F</th>\n",
       "      <td>592</td>\n",
       "      <td>586</td>\n",
       "      <td>2488</td>\n",
       "    </tr>\n",
       "  </tbody>\n",
       "</table>\n",
       "</div>"
      ],
      "text/plain": [
       "mode_of_shipment  Flight  Road  Ship\n",
       "warehouse_block                     \n",
       "A                    297   294  1242\n",
       "B                    296   294  1243\n",
       "C                    295   294  1244\n",
       "D                    297   292  1245\n",
       "F                    592   586  2488"
      ]
     },
     "execution_count": 141,
     "metadata": {},
     "output_type": "execute_result"
    }
   ],
   "source": [
    "warehouse_shipment = pd.crosstab(df['warehouse_block'], df['mode_of_shipment'])\n",
    "warehouse_shipment "
   ]
  },
  {
   "cell_type": "code",
   "execution_count": 142,
   "id": "d59e490c-166a-4df4-a2c6-82f12841dd74",
   "metadata": {},
   "outputs": [
    {
     "data": {
      "text/plain": [
       "(0.02476122480867181, 0.9999999990307034, 8)"
      ]
     },
     "execution_count": 142,
     "metadata": {},
     "output_type": "execute_result"
    }
   ],
   "source": [
    "chi2, p, dof, expected = chi2_contingency(warehouse_shipment )\n",
    "chi2, p, dof "
   ]
  },
  {
   "cell_type": "code",
   "execution_count": 143,
   "id": "8d13ca35-54b0-42ad-8afb-ed142fb280a5",
   "metadata": {},
   "outputs": [
    {
     "data": {
      "text/plain": [
       "<Axes: xlabel='warehouse_block'>"
      ]
     },
     "execution_count": 143,
     "metadata": {},
     "output_type": "execute_result"
    },
    {
     "data": {
      "image/png": "[encoded data removed]",
      "text/plain": [
       "<Figure size 400x400 with 1 Axes>"
      ]
     },
     "metadata": {},
     "output_type": "display_data"
    }
   ],
   "source": [
    "warehouse_shipment.plot(kind='bar', stacked=False, figsize=(4, 4))"
   ]
  },
  {
   "cell_type": "markdown",
   "id": "6e6fc9ec-f33d-4141-98fd-fe880a463fb8",
   "metadata": {},
   "source": [
    "### warehouse_block & gender"
   ]
  },
  {
   "cell_type": "code",
   "execution_count": 144,
   "id": "a82114c6-cde6-4222-ad1a-3701e108a8eb",
   "metadata": {},
   "outputs": [
    {
     "data": {
      "text/html": [
       "<div>\n",
       "<style scoped>\n",
       "    .dataframe tbody tr th:only-of-type {\n",
       "        vertical-align: middle;\n",
       "    }\n",
       "\n",
       "    .dataframe tbody tr th {\n",
       "        vertical-align: top;\n",
       "    }\n",
       "\n",
       "    .dataframe thead th {\n",
       "        text-align: right;\n",
       "    }\n",
       "</style>\n",
       "<table border=\"1\" class=\"dataframe\">\n",
       "  <thead>\n",
       "    <tr style=\"text-align: right;\">\n",
       "      <th>gender</th>\n",
       "      <th>F</th>\n",
       "      <th>M</th>\n",
       "    </tr>\n",
       "    <tr>\n",
       "      <th>warehouse_block</th>\n",
       "      <th></th>\n",
       "      <th></th>\n",
       "    </tr>\n",
       "  </thead>\n",
       "  <tbody>\n",
       "    <tr>\n",
       "      <th>A</th>\n",
       "      <td>928</td>\n",
       "      <td>905</td>\n",
       "    </tr>\n",
       "    <tr>\n",
       "      <th>B</th>\n",
       "      <td>908</td>\n",
       "      <td>925</td>\n",
       "    </tr>\n",
       "    <tr>\n",
       "      <th>C</th>\n",
       "      <td>921</td>\n",
       "      <td>912</td>\n",
       "    </tr>\n",
       "    <tr>\n",
       "      <th>D</th>\n",
       "      <td>933</td>\n",
       "      <td>901</td>\n",
       "    </tr>\n",
       "    <tr>\n",
       "      <th>F</th>\n",
       "      <td>1855</td>\n",
       "      <td>1811</td>\n",
       "    </tr>\n",
       "  </tbody>\n",
       "</table>\n",
       "</div>"
      ],
      "text/plain": [
       "gender              F     M\n",
       "warehouse_block            \n",
       "A                 928   905\n",
       "B                 908   925\n",
       "C                 921   912\n",
       "D                 933   901\n",
       "F                1855  1811"
      ]
     },
     "execution_count": 144,
     "metadata": {},
     "output_type": "execute_result"
    }
   ],
   "source": [
    "warehouse_gender= pd.crosstab(df['warehouse_block'], df['gender'])\n",
    "warehouse_gender\n"
   ]
  },
  {
   "cell_type": "code",
   "execution_count": 145,
   "id": "2f5f1f18-7bea-4c5f-8fdf-5a94d756636b",
   "metadata": {},
   "outputs": [
    {
     "data": {
      "text/plain": [
       "(0.8240610292981512, 0.9351935508400288, 4)"
      ]
     },
     "execution_count": 145,
     "metadata": {},
     "output_type": "execute_result"
    }
   ],
   "source": [
    "chi2, p, dof, expected = chi2_contingency(warehouse_gender)\n",
    "chi2, p, dof"
   ]
  },
  {
   "cell_type": "code",
   "execution_count": 146,
   "id": "55d45ca8-980b-4e90-9252-cd137a524cb7",
   "metadata": {},
   "outputs": [
    {
     "data": {
      "text/plain": [
       "<Axes: xlabel='warehouse_block'>"
      ]
     },
     "execution_count": 146,
     "metadata": {},
     "output_type": "execute_result"
    },
    {
     "data": {
      "image/png": "[encoded data removed]",
      "text/plain": [
       "<Figure size 400x400 with 1 Axes>"
      ]
     },
     "metadata": {},
     "output_type": "display_data"
    }
   ],
   "source": [
    "warehouse_gender.plot(kind='bar', stacked=False, figsize=(4, 4) )"
   ]
  },
  {
   "cell_type": "markdown",
   "id": "d4bef4fa-a6b1-4c74-8b35-cf8a254c75c9",
   "metadata": {},
   "source": [
    "### warehouse_product_importance"
   ]
  },
  {
   "cell_type": "code",
   "execution_count": 147,
   "id": "f368b779-e04d-49aa-a3c6-d24894968fb0",
   "metadata": {},
   "outputs": [
    {
     "data": {
      "text/html": [
       "<div>\n",
       "<style scoped>\n",
       "    .dataframe tbody tr th:only-of-type {\n",
       "        vertical-align: middle;\n",
       "    }\n",
       "\n",
       "    .dataframe tbody tr th {\n",
       "        vertical-align: top;\n",
       "    }\n",
       "\n",
       "    .dataframe thead th {\n",
       "        text-align: right;\n",
       "    }\n",
       "</style>\n",
       "<table border=\"1\" class=\"dataframe\">\n",
       "  <thead>\n",
       "    <tr style=\"text-align: right;\">\n",
       "      <th>product_importance</th>\n",
       "      <th>high</th>\n",
       "      <th>low</th>\n",
       "      <th>medium</th>\n",
       "    </tr>\n",
       "    <tr>\n",
       "      <th>warehouse_block</th>\n",
       "      <th></th>\n",
       "      <th></th>\n",
       "      <th></th>\n",
       "    </tr>\n",
       "  </thead>\n",
       "  <tbody>\n",
       "    <tr>\n",
       "      <th>A</th>\n",
       "      <td>165</td>\n",
       "      <td>909</td>\n",
       "      <td>759</td>\n",
       "    </tr>\n",
       "    <tr>\n",
       "      <th>B</th>\n",
       "      <td>146</td>\n",
       "      <td>855</td>\n",
       "      <td>832</td>\n",
       "    </tr>\n",
       "    <tr>\n",
       "      <th>C</th>\n",
       "      <td>168</td>\n",
       "      <td>874</td>\n",
       "      <td>791</td>\n",
       "    </tr>\n",
       "    <tr>\n",
       "      <th>D</th>\n",
       "      <td>166</td>\n",
       "      <td>883</td>\n",
       "      <td>785</td>\n",
       "    </tr>\n",
       "    <tr>\n",
       "      <th>F</th>\n",
       "      <td>303</td>\n",
       "      <td>1776</td>\n",
       "      <td>1587</td>\n",
       "    </tr>\n",
       "  </tbody>\n",
       "</table>\n",
       "</div>"
      ],
      "text/plain": [
       "product_importance  high   low  medium\n",
       "warehouse_block                       \n",
       "A                    165   909     759\n",
       "B                    146   855     832\n",
       "C                    168   874     791\n",
       "D                    166   883     785\n",
       "F                    303  1776    1587"
      ]
     },
     "execution_count": 147,
     "metadata": {},
     "output_type": "execute_result"
    }
   ],
   "source": [
    "warehouse_product_importance = pd.crosstab(df['warehouse_block'], df['product_importance'])\n",
    "warehouse_product_importance"
   ]
  },
  {
   "cell_type": "code",
   "execution_count": 174,
   "id": "010146b0-afb1-4d8b-9f67-c57cce3f168b",
   "metadata": {},
   "outputs": [
    {
     "data": {
      "text/plain": [
       "(8.058003966006893, 0.42782473410076044, 8)"
      ]
     },
     "execution_count": 174,
     "metadata": {},
     "output_type": "execute_result"
    }
   ],
   "source": [
    "chi2, p, dof, expected = chi2_contingency(warehouse_product_importance)\n",
    "chi2, p, dof"
   ]
  },
  {
   "cell_type": "code",
   "execution_count": 149,
   "id": "43248b4d-a4c8-472f-9fff-24886a73e461",
   "metadata": {},
   "outputs": [
    {
     "data": {
      "text/plain": [
       "<Axes: xlabel='warehouse_block'>"
      ]
     },
     "execution_count": 149,
     "metadata": {},
     "output_type": "execute_result"
    },
    {
     "data": {
      "image/png": "[encoded data removed]",
      "text/plain": [
       "<Figure size 400x400 with 1 Axes>"
      ]
     },
     "metadata": {},
     "output_type": "display_data"
    }
   ],
   "source": [
    "warehouse_product_importance.plot(kind='bar', stacked=False, figsize=(4, 4) )"
   ]
  },
  {
   "cell_type": "code",
   "execution_count": 150,
   "id": "bfe1f9bb-8ae8-47d6-9d56-6ba3e8222b64",
   "metadata": {},
   "outputs": [
    {
     "data": {
      "text/html": [
       "<div>\n",
       "<style scoped>\n",
       "    .dataframe tbody tr th:only-of-type {\n",
       "        vertical-align: middle;\n",
       "    }\n",
       "\n",
       "    .dataframe tbody tr th {\n",
       "        vertical-align: top;\n",
       "    }\n",
       "\n",
       "    .dataframe thead th {\n",
       "        text-align: right;\n",
       "    }\n",
       "</style>\n",
       "<table border=\"1\" class=\"dataframe\">\n",
       "  <thead>\n",
       "    <tr style=\"text-align: right;\">\n",
       "      <th></th>\n",
       "      <th>id</th>\n",
       "      <th>warehouse_block</th>\n",
       "      <th>mode_of_shipment</th>\n",
       "      <th>customer_care_calls</th>\n",
       "      <th>customer_rating</th>\n",
       "      <th>cost_of_the_product</th>\n",
       "      <th>prior_purchases</th>\n",
       "      <th>product_importance</th>\n",
       "      <th>gender</th>\n",
       "      <th>discount_offered</th>\n",
       "      <th>weight_in_gms</th>\n",
       "      <th>reached.on.time_y.n</th>\n",
       "      <th>cost_of_the_product_cleaned</th>\n",
       "      <th>discount_offered_cleaned</th>\n",
       "      <th>weight_in_gms_cleaned</th>\n",
       "    </tr>\n",
       "  </thead>\n",
       "  <tbody>\n",
       "    <tr>\n",
       "      <th>0</th>\n",
       "      <td>1</td>\n",
       "      <td>D</td>\n",
       "      <td>Flight</td>\n",
       "      <td>4</td>\n",
       "      <td>2</td>\n",
       "      <td>177</td>\n",
       "      <td>3</td>\n",
       "      <td>low</td>\n",
       "      <td>F</td>\n",
       "      <td>44</td>\n",
       "      <td>1233</td>\n",
       "      <td>1</td>\n",
       "      <td>Medium_cost</td>\n",
       "      <td>Too Much</td>\n",
       "      <td>Light</td>\n",
       "    </tr>\n",
       "    <tr>\n",
       "      <th>1</th>\n",
       "      <td>2</td>\n",
       "      <td>F</td>\n",
       "      <td>Flight</td>\n",
       "      <td>4</td>\n",
       "      <td>5</td>\n",
       "      <td>216</td>\n",
       "      <td>2</td>\n",
       "      <td>low</td>\n",
       "      <td>M</td>\n",
       "      <td>59</td>\n",
       "      <td>3088</td>\n",
       "      <td>1</td>\n",
       "      <td>Medium_cost</td>\n",
       "      <td>Too Much</td>\n",
       "      <td>Heavy</td>\n",
       "    </tr>\n",
       "  </tbody>\n",
       "</table>\n",
       "</div>"
      ],
      "text/plain": [
       "   id warehouse_block mode_of_shipment  customer_care_calls  customer_rating  \\\n",
       "0   1               D           Flight                    4                2   \n",
       "1   2               F           Flight                    4                5   \n",
       "\n",
       "   cost_of_the_product  prior_purchases product_importance gender  \\\n",
       "0                  177                3                low      F   \n",
       "1                  216                2                low      M   \n",
       "\n",
       "   discount_offered  weight_in_gms  reached.on.time_y.n  \\\n",
       "0                44           1233                    1   \n",
       "1                59           3088                    1   \n",
       "\n",
       "  cost_of_the_product_cleaned discount_offered_cleaned weight_in_gms_cleaned  \n",
       "0                 Medium_cost                 Too Much                 Light  \n",
       "1                 Medium_cost                 Too Much                 Heavy  "
      ]
     },
     "execution_count": 150,
     "metadata": {},
     "output_type": "execute_result"
    }
   ],
   "source": [
    "df.head(2)"
   ]
  },
  {
   "cell_type": "markdown",
   "id": "dd814a2b-6596-4a6b-981b-7247e3b7f084",
   "metadata": {},
   "source": [
    " ### warehouse_block & cost_of_the_product_cleaned"
   ]
  },
  {
   "cell_type": "code",
   "execution_count": 151,
   "id": "e9629808-1222-45a5-ada6-dc6a4a7395a8",
   "metadata": {},
   "outputs": [
    {
     "data": {
      "text/html": [
       "<div>\n",
       "<style scoped>\n",
       "    .dataframe tbody tr th:only-of-type {\n",
       "        vertical-align: middle;\n",
       "    }\n",
       "\n",
       "    .dataframe tbody tr th {\n",
       "        vertical-align: top;\n",
       "    }\n",
       "\n",
       "    .dataframe thead th {\n",
       "        text-align: right;\n",
       "    }\n",
       "</style>\n",
       "<table border=\"1\" class=\"dataframe\">\n",
       "  <thead>\n",
       "    <tr style=\"text-align: right;\">\n",
       "      <th>cost_of_the_product_cleaned</th>\n",
       "      <th>High_cost</th>\n",
       "      <th>Medium_cost</th>\n",
       "      <th>low_cost</th>\n",
       "    </tr>\n",
       "    <tr>\n",
       "      <th>warehouse_block</th>\n",
       "      <th></th>\n",
       "      <th></th>\n",
       "      <th></th>\n",
       "    </tr>\n",
       "  </thead>\n",
       "  <tbody>\n",
       "    <tr>\n",
       "      <th>A</th>\n",
       "      <td>456</td>\n",
       "      <td>887</td>\n",
       "      <td>490</td>\n",
       "    </tr>\n",
       "    <tr>\n",
       "      <th>B</th>\n",
       "      <td>460</td>\n",
       "      <td>951</td>\n",
       "      <td>422</td>\n",
       "    </tr>\n",
       "    <tr>\n",
       "      <th>C</th>\n",
       "      <td>481</td>\n",
       "      <td>908</td>\n",
       "      <td>444</td>\n",
       "    </tr>\n",
       "    <tr>\n",
       "      <th>D</th>\n",
       "      <td>476</td>\n",
       "      <td>897</td>\n",
       "      <td>461</td>\n",
       "    </tr>\n",
       "    <tr>\n",
       "      <th>F</th>\n",
       "      <td>905</td>\n",
       "      <td>1770</td>\n",
       "      <td>991</td>\n",
       "    </tr>\n",
       "  </tbody>\n",
       "</table>\n",
       "</div>"
      ],
      "text/plain": [
       "cost_of_the_product_cleaned  High_cost  Medium_cost  low_cost\n",
       "warehouse_block                                              \n",
       "A                                  456          887       490\n",
       "B                                  460          951       422\n",
       "C                                  481          908       444\n",
       "D                                  476          897       461\n",
       "F                                  905         1770       991"
      ]
     },
     "execution_count": 151,
     "metadata": {},
     "output_type": "execute_result"
    }
   ],
   "source": [
    "warehouse_cost_of_the_product_cleaned= pd.crosstab(df['warehouse_block'], df['cost_of_the_product_cleaned'])\n",
    "warehouse_cost_of_the_product_cleaned"
   ]
  },
  {
   "cell_type": "code",
   "execution_count": 152,
   "id": "deee3112-cc04-43d9-8c53-c42abde67014",
   "metadata": {},
   "outputs": [
    {
     "data": {
      "text/plain": [
       "(15.408724709595255, 0.051668644997462605, 8)"
      ]
     },
     "execution_count": 152,
     "metadata": {},
     "output_type": "execute_result"
    }
   ],
   "source": [
    "chi2, p, dof, expected = chi2_contingency(warehouse_cost_of_the_product_cleaned)\n",
    "chi2, p, dof"
   ]
  },
  {
   "cell_type": "code",
   "execution_count": 175,
   "id": "17dc485c-4a42-4b31-86d7-fc6ce9fa8f05",
   "metadata": {},
   "outputs": [
    {
     "data": {
      "text/plain": [
       "<Axes: xlabel='warehouse_block'>"
      ]
     },
     "execution_count": 175,
     "metadata": {},
     "output_type": "execute_result"
    },
    {
     "data": {
      "image/png": "[encoded data removed]",
      "text/plain": [
       "<Figure size 400x400 with 1 Axes>"
      ]
     },
     "metadata": {},
     "output_type": "display_data"
    }
   ],
   "source": [
    "warehouse_cost_of_the_product_cleaned.plot(kind='bar', stacked=False, figsize=(4, 4) )"
   ]
  },
  {
   "cell_type": "code",
   "execution_count": 153,
   "id": "c33c882e-82fb-48de-ad48-7f5f79613a45",
   "metadata": {},
   "outputs": [
    {
     "data": {
      "text/html": [
       "<div>\n",
       "<style scoped>\n",
       "    .dataframe tbody tr th:only-of-type {\n",
       "        vertical-align: middle;\n",
       "    }\n",
       "\n",
       "    .dataframe tbody tr th {\n",
       "        vertical-align: top;\n",
       "    }\n",
       "\n",
       "    .dataframe thead th {\n",
       "        text-align: right;\n",
       "    }\n",
       "</style>\n",
       "<table border=\"1\" class=\"dataframe\">\n",
       "  <thead>\n",
       "    <tr style=\"text-align: right;\">\n",
       "      <th></th>\n",
       "      <th>customer_rating</th>\n",
       "      <th>1</th>\n",
       "      <th>2</th>\n",
       "      <th>3</th>\n",
       "      <th>4</th>\n",
       "      <th>5</th>\n",
       "    </tr>\n",
       "    <tr>\n",
       "      <th>gender</th>\n",
       "      <th>product_importance</th>\n",
       "      <th></th>\n",
       "      <th></th>\n",
       "      <th></th>\n",
       "      <th></th>\n",
       "      <th></th>\n",
       "    </tr>\n",
       "  </thead>\n",
       "  <tbody>\n",
       "    <tr>\n",
       "      <th rowspan=\"3\" valign=\"top\">F</th>\n",
       "      <th>high</th>\n",
       "      <td>87</td>\n",
       "      <td>95</td>\n",
       "      <td>93</td>\n",
       "      <td>99</td>\n",
       "      <td>96</td>\n",
       "    </tr>\n",
       "    <tr>\n",
       "      <th>low</th>\n",
       "      <td>564</td>\n",
       "      <td>510</td>\n",
       "      <td>534</td>\n",
       "      <td>518</td>\n",
       "      <td>526</td>\n",
       "    </tr>\n",
       "    <tr>\n",
       "      <th>medium</th>\n",
       "      <td>498</td>\n",
       "      <td>457</td>\n",
       "      <td>516</td>\n",
       "      <td>479</td>\n",
       "      <td>473</td>\n",
       "    </tr>\n",
       "    <tr>\n",
       "      <th rowspan=\"3\" valign=\"top\">M</th>\n",
       "      <th>high</th>\n",
       "      <td>99</td>\n",
       "      <td>104</td>\n",
       "      <td>91</td>\n",
       "      <td>94</td>\n",
       "      <td>90</td>\n",
       "    </tr>\n",
       "    <tr>\n",
       "      <th>low</th>\n",
       "      <td>553</td>\n",
       "      <td>505</td>\n",
       "      <td>520</td>\n",
       "      <td>542</td>\n",
       "      <td>525</td>\n",
       "    </tr>\n",
       "    <tr>\n",
       "      <th>medium</th>\n",
       "      <td>434</td>\n",
       "      <td>494</td>\n",
       "      <td>485</td>\n",
       "      <td>457</td>\n",
       "      <td>461</td>\n",
       "    </tr>\n",
       "  </tbody>\n",
       "</table>\n",
       "</div>"
      ],
      "text/plain": [
       "customer_rating              1    2    3    4    5\n",
       "gender product_importance                         \n",
       "F      high                 87   95   93   99   96\n",
       "       low                 564  510  534  518  526\n",
       "       medium              498  457  516  479  473\n",
       "M      high                 99  104   91   94   90\n",
       "       low                 553  505  520  542  525\n",
       "       medium              434  494  485  457  461"
      ]
     },
     "execution_count": 153,
     "metadata": {},
     "output_type": "execute_result"
    }
   ],
   "source": [
    "V = pd.crosstab([df['gender'], df['product_importance']], df['customer_rating'])\n",
    "\n",
    "V"
   ]
  },
  {
   "cell_type": "markdown",
   "id": "d226feb6-f22f-4571-9f04-81dd033f0a11",
   "metadata": {},
   "source": [
    "# NUMERICAL COLUMNS"
   ]
  },
  {
   "cell_type": "code",
   "execution_count": 154,
   "id": "aa3094ea-fe61-446e-8dc8-95eaa166d3f0",
   "metadata": {},
   "outputs": [
    {
     "data": {
      "text/plain": [
       "['customer_care_calls',\n",
       " 'cost_of_the_product',\n",
       " 'prior_purchases',\n",
       " 'discount_offered',\n",
       " 'weight_in_gms',\n",
       " 'customer_rating',\n",
       " 'reached.on.time_y.n']"
      ]
     },
     "execution_count": 154,
     "metadata": {},
     "output_type": "execute_result"
    }
   ],
   "source": [
    "numerical_columns = ['customer_care_calls', 'cost_of_the_product', 'prior_purchases', \n",
    "                  'discount_offered', 'weight_in_gms',\"customer_rating\",'reached.on.time_y.n' ]\n",
    "numerical_columns"
   ]
  },
  {
   "cell_type": "code",
   "execution_count": 155,
   "id": "40ec31a3-7d02-4b2b-9d64-fda2d9242fe6",
   "metadata": {},
   "outputs": [
    {
     "data": {
      "text/html": [
       "<div>\n",
       "<style scoped>\n",
       "    .dataframe tbody tr th:only-of-type {\n",
       "        vertical-align: middle;\n",
       "    }\n",
       "\n",
       "    .dataframe tbody tr th {\n",
       "        vertical-align: top;\n",
       "    }\n",
       "\n",
       "    .dataframe thead th {\n",
       "        text-align: right;\n",
       "    }\n",
       "</style>\n",
       "<table border=\"1\" class=\"dataframe\">\n",
       "  <thead>\n",
       "    <tr style=\"text-align: right;\">\n",
       "      <th></th>\n",
       "      <th>customer_care_calls</th>\n",
       "      <th>cost_of_the_product</th>\n",
       "      <th>prior_purchases</th>\n",
       "      <th>discount_offered</th>\n",
       "      <th>weight_in_gms</th>\n",
       "      <th>customer_rating</th>\n",
       "      <th>reached.on.time_y.n</th>\n",
       "    </tr>\n",
       "  </thead>\n",
       "  <tbody>\n",
       "    <tr>\n",
       "      <th>customer_care_calls</th>\n",
       "      <td>1.000000</td>\n",
       "      <td>0.323182</td>\n",
       "      <td>0.180771</td>\n",
       "      <td>-0.130750</td>\n",
       "      <td>-0.276615</td>\n",
       "      <td>0.012209</td>\n",
       "      <td>-0.067126</td>\n",
       "    </tr>\n",
       "    <tr>\n",
       "      <th>cost_of_the_product</th>\n",
       "      <td>0.323182</td>\n",
       "      <td>1.000000</td>\n",
       "      <td>0.123676</td>\n",
       "      <td>-0.138312</td>\n",
       "      <td>-0.132604</td>\n",
       "      <td>0.009270</td>\n",
       "      <td>-0.073587</td>\n",
       "    </tr>\n",
       "    <tr>\n",
       "      <th>prior_purchases</th>\n",
       "      <td>0.180771</td>\n",
       "      <td>0.123676</td>\n",
       "      <td>1.000000</td>\n",
       "      <td>-0.082769</td>\n",
       "      <td>-0.168213</td>\n",
       "      <td>0.013179</td>\n",
       "      <td>-0.055515</td>\n",
       "    </tr>\n",
       "    <tr>\n",
       "      <th>discount_offered</th>\n",
       "      <td>-0.130750</td>\n",
       "      <td>-0.138312</td>\n",
       "      <td>-0.082769</td>\n",
       "      <td>1.000000</td>\n",
       "      <td>-0.376067</td>\n",
       "      <td>-0.003124</td>\n",
       "      <td>0.397108</td>\n",
       "    </tr>\n",
       "    <tr>\n",
       "      <th>weight_in_gms</th>\n",
       "      <td>-0.276615</td>\n",
       "      <td>-0.132604</td>\n",
       "      <td>-0.168213</td>\n",
       "      <td>-0.376067</td>\n",
       "      <td>1.000000</td>\n",
       "      <td>-0.001897</td>\n",
       "      <td>-0.268793</td>\n",
       "    </tr>\n",
       "    <tr>\n",
       "      <th>customer_rating</th>\n",
       "      <td>0.012209</td>\n",
       "      <td>0.009270</td>\n",
       "      <td>0.013179</td>\n",
       "      <td>-0.003124</td>\n",
       "      <td>-0.001897</td>\n",
       "      <td>1.000000</td>\n",
       "      <td>0.013119</td>\n",
       "    </tr>\n",
       "    <tr>\n",
       "      <th>reached.on.time_y.n</th>\n",
       "      <td>-0.067126</td>\n",
       "      <td>-0.073587</td>\n",
       "      <td>-0.055515</td>\n",
       "      <td>0.397108</td>\n",
       "      <td>-0.268793</td>\n",
       "      <td>0.013119</td>\n",
       "      <td>1.000000</td>\n",
       "    </tr>\n",
       "  </tbody>\n",
       "</table>\n",
       "</div>"
      ],
      "text/plain": [
       "                     customer_care_calls  cost_of_the_product  \\\n",
       "customer_care_calls             1.000000             0.323182   \n",
       "cost_of_the_product             0.323182             1.000000   \n",
       "prior_purchases                 0.180771             0.123676   \n",
       "discount_offered               -0.130750            -0.138312   \n",
       "weight_in_gms                  -0.276615            -0.132604   \n",
       "customer_rating                 0.012209             0.009270   \n",
       "reached.on.time_y.n            -0.067126            -0.073587   \n",
       "\n",
       "                     prior_purchases  discount_offered  weight_in_gms  \\\n",
       "customer_care_calls         0.180771         -0.130750      -0.276615   \n",
       "cost_of_the_product         0.123676         -0.138312      -0.132604   \n",
       "prior_purchases             1.000000         -0.082769      -0.168213   \n",
       "discount_offered           -0.082769          1.000000      -0.376067   \n",
       "weight_in_gms              -0.168213         -0.376067       1.000000   \n",
       "customer_rating             0.013179         -0.003124      -0.001897   \n",
       "reached.on.time_y.n        -0.055515          0.397108      -0.268793   \n",
       "\n",
       "                     customer_rating  reached.on.time_y.n  \n",
       "customer_care_calls         0.012209            -0.067126  \n",
       "cost_of_the_product         0.009270            -0.073587  \n",
       "prior_purchases             0.013179            -0.055515  \n",
       "discount_offered           -0.003124             0.397108  \n",
       "weight_in_gms              -0.001897            -0.268793  \n",
       "customer_rating             1.000000             0.013119  \n",
       "reached.on.time_y.n         0.013119             1.000000  "
      ]
     },
     "execution_count": 155,
     "metadata": {},
     "output_type": "execute_result"
    }
   ],
   "source": [
    "correlation_matrix = df[numerical_columns].corr()\n",
    "correlation_matrix"
   ]
  },
  {
   "cell_type": "code",
   "execution_count": 156,
   "id": "2b91f884-b6e4-4328-b230-8317667f26bb",
   "metadata": {},
   "outputs": [],
   "source": [
    "import matplotlib.pyplot as plt\n",
    "import seaborn as sns"
   ]
  },
  {
   "cell_type": "code",
   "execution_count": 157,
   "id": "e1ca573a-379f-4920-898b-5be0661db85f",
   "metadata": {},
   "outputs": [
    {
     "data": {
      "image/png": "[encoded data removed]",
      "text/plain": [
       "<Figure size 600x400 with 2 Axes>"
      ]
     },
     "metadata": {},
     "output_type": "display_data"
    }
   ],
   "source": [
    "plt.figure(figsize=(6, 4))\n",
    "sns.heatmap(correlation_matrix, annot=True,cmap=None,fmt='.2g' )\n",
    "plt.title('Correlation Matrix')\n",
    "plt.show()"
   ]
  },
  {
   "cell_type": "code",
   "execution_count": 158,
   "id": "5ce70d88-1175-4c26-9f6a-21866577b95f",
   "metadata": {},
   "outputs": [
    {
     "data": {
      "image/png": "[encoded data removed]",
      "text/plain": [
       "<Figure size 640x480 with 1 Axes>"
      ]
     },
     "metadata": {},
     "output_type": "display_data"
    }
   ],
   "source": [
    "sns.boxplot(data=df, x='product_importance', y='cost_of_the_product')\n",
    "plt.title('Product Importance vs Cost of Product')\n",
    "plt.show()"
   ]
  },
  {
   "cell_type": "code",
   "execution_count": 159,
   "id": "42e391a1-f1cc-448e-86bb-8e68032d2d77",
   "metadata": {},
   "outputs": [
    {
     "data": {
      "image/png": "[encoded data removed]",
      "text/plain": [
       "<Figure size 640x480 with 1 Axes>"
      ]
     },
     "metadata": {},
     "output_type": "display_data"
    }
   ],
   "source": [
    "sns.countplot(data=df, x='warehouse_block', hue='product_importance')\n",
    "plt.title('Warehouse Block vs Product Importance')\n",
    "plt.show()"
   ]
  },
  {
   "cell_type": "code",
   "execution_count": 160,
   "id": "85db3fb4-aabf-4d72-8e0d-c8e9cd6dd8c7",
   "metadata": {},
   "outputs": [
    {
     "data": {
      "image/png": "[encoded data removed]",
      "text/plain": [
       "<Figure size 640x480 with 1 Axes>"
      ]
     },
     "metadata": {},
     "output_type": "display_data"
    }
   ],
   "source": [
    "gender_shipment = df.groupby(['gender', 'mode_of_shipment']).size().unstack()\n",
    "gender_shipment.plot(kind='bar', stacked=False)\n",
    "plt.title('Gender vs Mode of Shipment')\n",
    "plt.show()"
   ]
  },
  {
   "cell_type": "code",
   "execution_count": 161,
   "id": "beef80e0-facc-480d-be7f-0813b34059ad",
   "metadata": {},
   "outputs": [
    {
     "data": {
      "image/png": "[encoded data removed]",
      "text/plain": [
       "<Figure size 640x480 with 1 Axes>"
      ]
     },
     "metadata": {},
     "output_type": "display_data"
    }
   ],
   "source": [
    "sns.boxplot(data=df, x='product_importance', y='cost_of_the_product')\n",
    "plt.title('Product Importance vs Cost of Product')\n",
    "plt.show()"
   ]
  },
  {
   "cell_type": "code",
   "execution_count": 162,
   "id": "52c08261-8925-486f-9773-1be57fce8e61",
   "metadata": {},
   "outputs": [
    {
     "data": {
      "image/png": "[encoded data removed]",
      "text/plain": [
       "<Figure size 1000x600 with 1 Axes>"
      ]
     },
     "metadata": {},
     "output_type": "display_data"
    }
   ],
   "source": [
    "plt.figure(figsize=(10, 6))\n",
    "sns.boxplot(data=df, x='warehouse_block', y='weight_in_gms')\n",
    "plt.title('Distribution of Weight across Warehouse Blocks')\n",
    "plt.show()\n"
   ]
  },
  {
   "cell_type": "code",
   "execution_count": 163,
   "id": "17b0f5fb-3e47-4139-a3a1-a59175cb8a9f",
   "metadata": {},
   "outputs": [
    {
     "data": {
      "image/png": "[encoded data removed]",
      "text/plain": [
       "<Figure size 400x400 with 1 Axes>"
      ]
     },
     "metadata": {},
     "output_type": "display_data"
    }
   ],
   "source": [
    "# Box plot for cost_of_the_product_cleaned across product_importance\n",
    "plt.figure(figsize=(4, 4))\n",
    "sns.boxplot(data=df, x='product_importance', y='prior_purchases')\n",
    "plt.title('Cost of Product by Importance')\n",
    "plt.show()"
   ]
  },
  {
   "cell_type": "code",
   "execution_count": 164,
   "id": "f15431b1-9941-4942-ae5e-de438ce11591",
   "metadata": {},
   "outputs": [
    {
     "data": {
      "image/png": "[encoded data removed]",
      "text/plain": [
       "<Figure size 300x300 with 1 Axes>"
      ]
     },
     "metadata": {},
     "output_type": "display_data"
    }
   ],
   "source": [
    "# Box plot for discount_offered_cleaned across gender\n",
    "plt.figure(figsize=(3, 3))\n",
    "sns.boxplot(data=df, x='gender', y='prior_purchases')\n",
    "plt.title('Discount Offered by Gender')\n",
    "plt.show()"
   ]
  },
  {
   "cell_type": "raw",
   "id": "a4ed9485-693b-4811-bc15-d068546621a3",
   "metadata": {},
   "source": [
    "plt.figure(figsize=(10, 6))\n",
    "sns.scatterplot(data=df, x='customer_care_calls', y='customer_rating')\n",
    "plt.title('Customer Calls vs Customer Rating')\n",
    "plt.xlabel('Customer Care Calls')\n",
    "plt.ylabel('Customer Rating')\n",
    "plt.show()"
   ]
  },
  {
   "cell_type": "code",
   "execution_count": 165,
   "id": "42066f4c-02cc-4714-9481-4c27bb31a323",
   "metadata": {},
   "outputs": [
    {
     "data": {
      "text/html": [
       "<div>\n",
       "<style scoped>\n",
       "    .dataframe tbody tr th:only-of-type {\n",
       "        vertical-align: middle;\n",
       "    }\n",
       "\n",
       "    .dataframe tbody tr th {\n",
       "        vertical-align: top;\n",
       "    }\n",
       "\n",
       "    .dataframe thead th {\n",
       "        text-align: right;\n",
       "    }\n",
       "</style>\n",
       "<table border=\"1\" class=\"dataframe\">\n",
       "  <thead>\n",
       "    <tr style=\"text-align: right;\">\n",
       "      <th></th>\n",
       "      <th>customer_care_calls</th>\n",
       "      <th>customer_rating</th>\n",
       "    </tr>\n",
       "  </thead>\n",
       "  <tbody>\n",
       "    <tr>\n",
       "      <th>customer_care_calls</th>\n",
       "      <td>1.000000</td>\n",
       "      <td>0.012209</td>\n",
       "    </tr>\n",
       "    <tr>\n",
       "      <th>customer_rating</th>\n",
       "      <td>0.012209</td>\n",
       "      <td>1.000000</td>\n",
       "    </tr>\n",
       "  </tbody>\n",
       "</table>\n",
       "</div>"
      ],
      "text/plain": [
       "                     customer_care_calls  customer_rating\n",
       "customer_care_calls             1.000000         0.012209\n",
       "customer_rating                 0.012209         1.000000"
      ]
     },
     "execution_count": 165,
     "metadata": {},
     "output_type": "execute_result"
    }
   ],
   "source": [
    "correlation = df[['customer_care_calls', 'customer_rating']].corr()\n",
    "correlation"
   ]
  },
  {
   "cell_type": "code",
   "execution_count": 166,
   "id": "375b11cd-b057-40df-8855-fab3888d0b22",
   "metadata": {},
   "outputs": [
    {
     "data": {
      "text/plain": [
       "Index(['id', 'warehouse_block', 'mode_of_shipment', 'customer_care_calls',\n",
       "       'customer_rating', 'cost_of_the_product', 'prior_purchases',\n",
       "       'product_importance', 'gender', 'discount_offered', 'weight_in_gms',\n",
       "       'reached.on.time_y.n', 'cost_of_the_product_cleaned',\n",
       "       'discount_offered_cleaned', 'weight_in_gms_cleaned'],\n",
       "      dtype='object')"
      ]
     },
     "execution_count": 166,
     "metadata": {},
     "output_type": "execute_result"
    }
   ],
   "source": [
    "df.columns"
   ]
  },
  {
   "cell_type": "code",
   "execution_count": 167,
   "id": "b4661ce9-78f6-4cd2-a13f-402cbd974d70",
   "metadata": {},
   "outputs": [
    {
     "data": {
      "text/html": [
       "<div>\n",
       "<style scoped>\n",
       "    .dataframe tbody tr th:only-of-type {\n",
       "        vertical-align: middle;\n",
       "    }\n",
       "\n",
       "    .dataframe tbody tr th {\n",
       "        vertical-align: top;\n",
       "    }\n",
       "\n",
       "    .dataframe thead th {\n",
       "        text-align: right;\n",
       "    }\n",
       "</style>\n",
       "<table border=\"1\" class=\"dataframe\">\n",
       "  <thead>\n",
       "    <tr style=\"text-align: right;\">\n",
       "      <th></th>\n",
       "      <th>id</th>\n",
       "      <th>warehouse_block</th>\n",
       "      <th>mode_of_shipment</th>\n",
       "      <th>customer_care_calls</th>\n",
       "      <th>customer_rating</th>\n",
       "      <th>cost_of_the_product</th>\n",
       "      <th>prior_purchases</th>\n",
       "      <th>product_importance</th>\n",
       "      <th>gender</th>\n",
       "      <th>discount_offered</th>\n",
       "      <th>weight_in_gms</th>\n",
       "      <th>reached.on.time_y.n</th>\n",
       "      <th>cost_of_the_product_cleaned</th>\n",
       "      <th>discount_offered_cleaned</th>\n",
       "      <th>weight_in_gms_cleaned</th>\n",
       "    </tr>\n",
       "  </thead>\n",
       "  <tbody>\n",
       "    <tr>\n",
       "      <th>0</th>\n",
       "      <td>1</td>\n",
       "      <td>D</td>\n",
       "      <td>Flight</td>\n",
       "      <td>4</td>\n",
       "      <td>2</td>\n",
       "      <td>177</td>\n",
       "      <td>3</td>\n",
       "      <td>low</td>\n",
       "      <td>F</td>\n",
       "      <td>44</td>\n",
       "      <td>1233</td>\n",
       "      <td>1</td>\n",
       "      <td>Medium_cost</td>\n",
       "      <td>Too Much</td>\n",
       "      <td>Light</td>\n",
       "    </tr>\n",
       "    <tr>\n",
       "      <th>1</th>\n",
       "      <td>2</td>\n",
       "      <td>F</td>\n",
       "      <td>Flight</td>\n",
       "      <td>4</td>\n",
       "      <td>5</td>\n",
       "      <td>216</td>\n",
       "      <td>2</td>\n",
       "      <td>low</td>\n",
       "      <td>M</td>\n",
       "      <td>59</td>\n",
       "      <td>3088</td>\n",
       "      <td>1</td>\n",
       "      <td>Medium_cost</td>\n",
       "      <td>Too Much</td>\n",
       "      <td>Heavy</td>\n",
       "    </tr>\n",
       "  </tbody>\n",
       "</table>\n",
       "</div>"
      ],
      "text/plain": [
       "   id warehouse_block mode_of_shipment  customer_care_calls  customer_rating  \\\n",
       "0   1               D           Flight                    4                2   \n",
       "1   2               F           Flight                    4                5   \n",
       "\n",
       "   cost_of_the_product  prior_purchases product_importance gender  \\\n",
       "0                  177                3                low      F   \n",
       "1                  216                2                low      M   \n",
       "\n",
       "   discount_offered  weight_in_gms  reached.on.time_y.n  \\\n",
       "0                44           1233                    1   \n",
       "1                59           3088                    1   \n",
       "\n",
       "  cost_of_the_product_cleaned discount_offered_cleaned weight_in_gms_cleaned  \n",
       "0                 Medium_cost                 Too Much                 Light  \n",
       "1                 Medium_cost                 Too Much                 Heavy  "
      ]
     },
     "execution_count": 167,
     "metadata": {},
     "output_type": "execute_result"
    }
   ],
   "source": [
    "df.head(2)"
   ]
  },
  {
   "cell_type": "code",
   "execution_count": 168,
   "id": "fbb0af46-e974-46e2-8610-1741d14e7936",
   "metadata": {},
   "outputs": [],
   "source": [
    "df[['id', 'warehouse_block', 'mode_of_shipment', 'customer_care_calls',\n",
    "       'customer_rating', 'cost_of_the_product', 'prior_purchases',\n",
    "       'product_importance', 'gender', 'discount_offered', 'weight_in_gms',\n",
    "       'reached.on.time_y.n', 'cost_of_the_product_cleaned',\n",
    "       'discount_offered_cleaned','weight_in_gms_cleaned']].to_csv(\"Ecommerce_Product_Data_Cleaned.csv\",index=False)"
   ]
  },
  {
   "cell_type": "markdown",
   "id": "3a9c82fd-4589-4349-8786-c7ddf7116efa",
   "metadata": {},
   "source": [
    " ### relation with on time"
   ]
  },
  {
   "cell_type": "code",
   "execution_count": 169,
   "id": "260456b5-0b00-464e-a9b6-aa744bb4f0dd",
   "metadata": {},
   "outputs": [
    {
     "data": {
      "image/png": "[encoded data removed]",
      "text/plain": [
       "<Figure size 400x400 with 1 Axes>"
      ]
     },
     "metadata": {},
     "output_type": "display_data"
    }
   ],
   "source": [
    "plt.figure(figsize=(4, 4))\n",
    "sns.histplot(data=df, x='product_importance', hue='reached.on.time_y.n', multiple='dodge', edgecolor=\".1\", linewidth=.7 )\n",
    "plt.title(' Product Importance Vs On Time')\n",
    "plt.show()"
   ]
  },
  {
   "cell_type": "code",
   "execution_count": 170,
   "id": "da7f68e2-9ee5-418d-81a4-6275f5678279",
   "metadata": {},
   "outputs": [
    {
     "data": {
      "image/png": "[encoded data removed]",
      "text/plain": [
       "<Figure size 400x400 with 1 Axes>"
      ]
     },
     "metadata": {},
     "output_type": "display_data"
    }
   ],
   "source": [
    "plt.figure(figsize=(4, 4))\n",
    "sns.histplot(data=df, x='warehouse_block', hue='reached.on.time_y.n', multiple='layer', edgecolor=\".1\", linewidth=.7 )\n",
    "plt.title(' warehouse_block Vs On Time')\n",
    "plt.show()"
   ]
  },
  {
   "cell_type": "code",
   "execution_count": null,
   "id": "3fdd8f30-a502-43f2-b583-95fc0b97d33c",
   "metadata": {},
   "outputs": [],
   "source": []
  }
 ],
 "metadata": {
  "kernelspec": {
   "display_name": "Python 3 (ipykernel)",
   "language": "python",
   "name": "python3"
  },
  "language_info": {
   "codemirror_mode": {
    "name": "ipython",
    "version": 3
   },
   "file_extension": ".py",
   "mimetype": "text/x-python",
   "name": "python",
   "nbconvert_exporter": "python",
   "pygments_lexer": "ipython3",
   "version": "3.12.4"
  }
 },
 "nbformat": 4,
 "nbformat_minor": 5
}
